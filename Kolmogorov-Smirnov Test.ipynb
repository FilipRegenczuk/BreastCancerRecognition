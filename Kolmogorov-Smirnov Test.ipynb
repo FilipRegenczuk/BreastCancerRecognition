{
 "cells": [
  {
   "cell_type": "code",
   "execution_count": 65,
   "metadata": {},
   "outputs": [],
   "source": [
    "# Converting file from .data to .csv\n",
    "\n",
    "filename = \"breast-cancer-wisconsin.data\"\n",
    "# headers = \"ID,Clump Thickness,Uniformity of Cell Size,Uniformity of Cell Shape,Marginal Adhesion,Single Epithelial Cell Size,Bare Nuclei,Bland Chromatin,Normal Nucleoli,Mitoses\"\n",
    "headers = \"f1,f2,f3,f4,f5,f6,f7,f8,f9,f10,c\"\n",
    "\n",
    "with open(filename) as file:\n",
    "    data = file.read()\n",
    "\n",
    "data = data.replace(\"?\", \"NaN\")\n",
    "filename = filename.replace(\".data\", \".csv\")\n",
    "\n",
    "with open(filename, \"w\") as file:\n",
    "    file.write(headers + \"\\n\")\n",
    "    file.write(data)\n"
   ]
  },
  {
   "cell_type": "code",
   "execution_count": 66,
   "metadata": {},
   "outputs": [
    {
     "name": "stdout",
     "output_type": "stream",
     "text": [
      "          f1  f2  f3  f4  f5  f6    f7  f8  f9  f10  c\n",
      "0    1000025   5   1   1   1   2   1.0   3   1    1  2\n",
      "1    1002945   5   4   4   5   7  10.0   3   2    1  2\n",
      "2    1015425   3   1   1   1   2   2.0   3   1    1  2\n",
      "3    1016277   6   8   8   1   3   4.0   3   7    1  2\n",
      "4    1017023   4   1   1   3   2   1.0   3   1    1  2\n",
      "..       ...  ..  ..  ..  ..  ..   ...  ..  ..  ... ..\n",
      "694   776715   3   1   1   1   3   2.0   1   1    1  2\n",
      "695   841769   2   1   1   1   2   1.0   1   1    1  2\n",
      "696   888820   5  10  10   3   7   3.0   8  10    2  4\n",
      "697   897471   4   8   6   4   3   4.0  10   6    1  4\n",
      "698   897471   4   8   8   5   4   5.0  10   4    1  4\n",
      "\n",
      "[699 rows x 11 columns]\n",
      "f2\n",
      "KstestResult(statistic=0.8413447460685429, pvalue=0.0)\n",
      "f3\n",
      "KstestResult(statistic=0.8413447460685429, pvalue=0.0)\n",
      "f4\n",
      "KstestResult(statistic=0.8413447460685429, pvalue=0.0)\n",
      "f5\n",
      "KstestResult(statistic=0.8413447460685429, pvalue=0.0)\n",
      "f6\n",
      "KstestResult(statistic=0.9100109553193458, pvalue=0.0)\n",
      "f7\n",
      "KstestResult(statistic=nan, pvalue=nan)\n",
      "f8\n",
      "KstestResult(statistic=0.8413447460685429, pvalue=0.0)\n",
      "f9\n",
      "KstestResult(statistic=0.8413447460685429, pvalue=0.0)\n",
      "f10\n",
      "KstestResult(statistic=0.8413447460685429, pvalue=0.0)\n"
     ]
    }
   ],
   "source": [
    "# Creating DataFrame object\n",
    "\n",
    "import pandas as pd\n",
    "import io\n",
    "from scipy.stats import kstest\n",
    "\n",
    "filename = \"breast-cancer-wisconsin.csv\"\n",
    "\n",
    "with open(filename) as file:\n",
    "    data_string = file.read()\n",
    "    \n",
    "    data = io.StringIO(data_string)\n",
    "    df = pd.read_csv(data, sep=\",\")\n",
    "    \n",
    "print(df)\n",
    "\n",
    "for feature in df.columns[1:-1]:\n",
    "    print(feature)\n",
    "    feature = kstest(df[feature], \"norm\")\n",
    "    print(feature)\n",
    "\n"
   ]
  },
  {
   "cell_type": "code",
   "execution_count": null,
   "metadata": {},
   "outputs": [],
   "source": []
  }
 ],
 "metadata": {
  "kernelspec": {
   "display_name": "Python 3",
   "language": "python",
   "name": "python3"
  },
  "language_info": {
   "codemirror_mode": {
    "name": "ipython",
    "version": 3
   },
   "file_extension": ".py",
   "mimetype": "text/x-python",
   "name": "python",
   "nbconvert_exporter": "python",
   "pygments_lexer": "ipython3",
   "version": "3.7.4"
  }
 },
 "nbformat": 4,
 "nbformat_minor": 2
}
