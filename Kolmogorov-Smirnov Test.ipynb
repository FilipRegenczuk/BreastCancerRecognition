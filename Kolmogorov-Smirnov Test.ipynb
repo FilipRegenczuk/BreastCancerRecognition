{
 "cells": [
  {
   "cell_type": "code",
   "execution_count": 22,
   "metadata": {},
   "outputs": [],
   "source": [
    "# Converting file from .data to .csv\n",
    "\n",
    "filename = \"breast-cancer-wisconsin.data\"\n",
    "# headers = \"ID,Clump Thickness,Uniformity of Cell Size,Uniformity of Cell Shape,Marginal Adhesion,Single Epithelial Cell Size,Bare Nuclei,Bland Chromatin,Normal Nucleoli,Mitoses\"\n",
    "\n",
    "with open(filename) as file:\n",
    "    data = file.read()\n",
    "\n",
    "filename = filename.replace(\".data\", \".csv\")\n",
    "\n",
    "with open(filename, \"w\") as file:\n",
    "#     file.write(headers + \"\\n\")\n",
    "    file.write(data)\n"
   ]
  },
  {
   "cell_type": "code",
   "execution_count": 23,
   "metadata": {},
   "outputs": [
    {
     "name": "stdout",
     "output_type": "stream",
     "text": [
      "     1000025  5   1  1.1  1.2  2 1.3   3  1.4  1.5  2.1\n",
      "0    1002945  5   4    4    5  7  10   3    2    1    2\n",
      "1    1015425  3   1    1    1  2   2   3    1    1    2\n",
      "2    1016277  6   8    8    1  3   4   3    7    1    2\n",
      "3    1017023  4   1    1    3  2   1   3    1    1    2\n",
      "4    1017122  8  10   10    8  7  10   9    7    1    4\n",
      "..       ... ..  ..  ...  ... ..  ..  ..  ...  ...  ...\n",
      "693   776715  3   1    1    1  3   2   1    1    1    2\n",
      "694   841769  2   1    1    1  2   1   1    1    1    2\n",
      "695   888820  5  10   10    3  7   3   8   10    2    4\n",
      "696   897471  4   8    6    4  3   4  10    6    1    4\n",
      "697   897471  4   8    8    5  4   5  10    4    1    4\n",
      "\n",
      "[698 rows x 11 columns]\n"
     ]
    }
   ],
   "source": [
    "import pandas as pd\n",
    "import io\n",
    "\n",
    "filename = \"breast-cancer-wisconsin.csv\"\n",
    "\n",
    "with open(filename) as file:\n",
    "    data_string = file.read()\n",
    "    \n",
    "    data = io.StringIO(data_string)\n",
    "    df = pd.read_csv(data, sep=\",\")\n",
    "    \n",
    "    print(df)"
   ]
  }
 ],
 "metadata": {
  "kernelspec": {
   "display_name": "Python 3",
   "language": "python",
   "name": "python3"
  },
  "language_info": {
   "codemirror_mode": {
    "name": "ipython",
    "version": 3
   },
   "file_extension": ".py",
   "mimetype": "text/x-python",
   "name": "python",
   "nbconvert_exporter": "python",
   "pygments_lexer": "ipython3",
   "version": "3.7.4"
  }
 },
 "nbformat": 4,
 "nbformat_minor": 2
}
