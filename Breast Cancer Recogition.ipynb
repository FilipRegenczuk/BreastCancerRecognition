{
 "cells": [
  {
   "cell_type": "code",
   "execution_count": 39,
   "metadata": {},
   "outputs": [],
   "source": [
    "# Converting file from .data to .csv\n",
    "\n",
    "filename = \"breast-cancer-wisconsin.data\"\n",
    "# headers = \"ID,Clump Thickness,Uniformity of Cell Size,Uniformity of Cell Shape,Marginal Adhesion,Single Epithelial Cell Size,Bare Nuclei,Bland Chromatin,Normal Nucleoli,Mitoses\"\n",
    "headers = \"f0,f1,f2,f3,f4,f5,f6,f7,f8,f9,c\"\n",
    "\n",
    "with open(filename) as file:\n",
    "    data = file.read()\n",
    "\n",
    "data = data.replace('?', 'NaN')\n",
    "filename = filename.replace(\".data\", \".csv\")\n",
    "\n",
    "with open(filename, \"w\") as file:\n",
    "    file.write(headers + \"\\n\")\n",
    "    file.write(data)\n"
   ]
  },
  {
   "cell_type": "code",
   "execution_count": 40,
   "metadata": {},
   "outputs": [
    {
     "name": "stdout",
     "output_type": "stream",
     "text": [
      "Index(['f0', 'f1', 'f2', 'f3', 'f4', 'f5', 'f6', 'f7', 'f8', 'f9', 'c'], dtype='object')\n"
     ]
    }
   ],
   "source": [
    "# Preparing data\n",
    "\n",
    "import pandas as pd\n",
    "import io\n",
    "\n",
    "filename = \"breast-cancer-wisconsin.csv\"\n",
    "\n",
    "with open(filename) as file:\n",
    "    data_string = file.read()\n",
    "    \n",
    "data = io.StringIO(data_string)\n",
    "df = pd.read_csv(data, sep=\",\")\n",
    "\n",
    "# Clearing data from empty feature's values\n",
    "df = df.dropna()\n",
    "\n",
    "# Change values for class ('2' to '0' and '4' to '1')\n",
    "df['c'] = df['c'].replace(2, 0)\n",
    "df['c'] = df['c'].replace(4, 1)\n",
    "\n",
    "df.to_csv(filename)"
   ]
  },
  {
   "cell_type": "code",
   "execution_count": 100,
   "metadata": {},
   "outputs": [
    {
     "name": "stdout",
     "output_type": "stream",
     "text": [
      "     Unnamed: 0       f0  f1  f2  f3  f4  f5    f6  f7  f8  f9\n",
      "0             0  1000025   5   1   1   1   2   1.0   3   1   1\n",
      "1             1  1002945   5   4   4   5   7  10.0   3   2   1\n",
      "2             2  1015425   3   1   1   1   2   2.0   3   1   1\n",
      "3             3  1016277   6   8   8   1   3   4.0   3   7   1\n",
      "4             4  1017023   4   1   1   3   2   1.0   3   1   1\n",
      "..          ...      ...  ..  ..  ..  ..  ..   ...  ..  ..  ..\n",
      "678         694   776715   3   1   1   1   3   2.0   1   1   1\n",
      "679         695   841769   2   1   1   1   2   1.0   1   1   1\n",
      "680         696   888820   5  10  10   3   7   3.0   8  10   2\n",
      "681         697   897471   4   8   6   4   3   4.0  10   6   1\n",
      "682         698   897471   4   8   8   5   4   5.0  10   4   1\n",
      "\n",
      "[683 rows x 11 columns]\n"
     ]
    }
   ],
   "source": [
    "# Division data to dataframes: X for data set and Y for tags\n",
    "\n",
    "X = df.iloc[:,:-1]\n",
    "y = df.iloc[:,-1]\n",
    "\n",
    "print(X)"
   ]
  },
  {
   "cell_type": "code",
   "execution_count": 102,
   "metadata": {},
   "outputs": [
    {
     "data": {
      "text/plain": [
       "{'f9': 0.5091730914657034,\n",
       " 'f1': 0.5936490155008523,\n",
       " 'f7': 0.6577258126105182,\n",
       " 'f4': 0.675633325449535,\n",
       " 'f8': 0.6925037262305894,\n",
       " 'f5': 0.7062878064817635,\n",
       " 'f3': 0.7604191544017106,\n",
       " 'f6': 0.7764688877762504,\n",
       " 'f2': 0.7823879275615498}"
      ]
     },
     "execution_count": 102,
     "metadata": {},
     "output_type": "execute_result"
    }
   ],
   "source": [
    "# Kendall' Tau Test - feature ranking\n",
    "\n",
    "from scipy.stats import kendalltau\n",
    "\n",
    "kendall_test = {}\n",
    "\n",
    "for feature in X.columns[2:]:\n",
    "    tau, p_value = kendalltau(X[feature], y)\n",
    "    kendall_test[feature] = tau\n",
    "\n",
    "{k: v for k, v in sorted(kendall_test.items(), key=lambda item: item[1])}"
   ]
  },
  {
   "cell_type": "code",
   "execution_count": 103,
   "metadata": {},
   "outputs": [
    {
     "name": "stdout",
     "output_type": "stream",
     "text": [
      "Length of train group: 546 / 79.94%\n",
      "Length of test group:  137 / 20.06%\n"
     ]
    }
   ],
   "source": [
    "# Data division\n",
    "\n",
    "from sklearn.model_selection import train_test_split\n",
    "\n",
    "X_train, X_test, y_train, y_test = train_test_split(X, y, test_size=0.2)\n",
    "\n",
    "print(\"Length of train group:\", len(X_train), \"/\", format(len(X_train)/len(df)*100, '.2f') + \"%\")\n",
    "print(\"Length of test group: \", len(X_test), \"/\", format(len(X_test)/len(df)*100, '.2f') + \"%\")"
   ]
  },
  {
   "cell_type": "code",
   "execution_count": 75,
   "metadata": {},
   "outputs": [
    {
     "name": "stdout",
     "output_type": "stream",
     "text": [
      "     Unnamed: 0       f0  f1  f2  f3  f4  f5    f6  f7  f8  f9  c\n",
      "0             0  1000025   5   1   1   1   2   1.0   3   1   1  0\n",
      "1             1  1002945   5   4   4   5   7  10.0   3   2   1  0\n",
      "2             2  1015425   3   1   1   1   2   2.0   3   1   1  0\n",
      "3             3  1016277   6   8   8   1   3   4.0   3   7   1  0\n",
      "4             4  1017023   4   1   1   3   2   1.0   3   1   1  0\n",
      "..          ...      ...  ..  ..  ..  ..  ..   ...  ..  ..  .. ..\n",
      "677         693   763235   3   1   1   1   2   1.0   2   1   2  0\n",
      "678         694   776715   3   1   1   1   3   2.0   1   1   1  0\n",
      "679         695   841769   2   1   1   1   2   1.0   1   1   1  0\n",
      "680         696   888820   5  10  10   3   7   3.0   8  10   2  1\n",
      "681         697   897471   4   8   6   4   3   4.0  10   6   1  1\n",
      "\n",
      "[682 rows x 12 columns]\n"
     ]
    }
   ],
   "source": []
  }
 ],
 "metadata": {
  "kernelspec": {
   "display_name": "Python 3",
   "language": "python",
   "name": "python3"
  },
  "language_info": {
   "codemirror_mode": {
    "name": "ipython",
    "version": 3
   },
   "file_extension": ".py",
   "mimetype": "text/x-python",
   "name": "python",
   "nbconvert_exporter": "python",
   "pygments_lexer": "ipython3",
   "version": "3.7.4"
  }
 },
 "nbformat": 4,
 "nbformat_minor": 2
}
