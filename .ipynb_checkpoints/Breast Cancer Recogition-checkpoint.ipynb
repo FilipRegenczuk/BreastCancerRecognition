{
 "cells": [
  {
   "cell_type": "code",
   "execution_count": 121,
   "metadata": {},
   "outputs": [],
   "source": [
    "# Converting file from .data to .csv\n",
    "\n",
    "filename = \"breast-cancer-wisconsin.data\"\n",
    "# headers = \"ID,Clump Thickness,Uniformity of Cell Size,Uniformity of Cell Shape,Marginal Adhesion,Single Epithelial Cell Size,Bare Nuclei,Bland Chromatin,Normal Nucleoli,Mitoses\"\n",
    "headers = \"f0,f1,f2,f3,f4,f5,f6,f7,f8,f9,c\"\n",
    "\n",
    "with open(filename) as file:\n",
    "    data = file.read()\n",
    "\n",
    "data = data.replace('?', 'NaN')\n",
    "filename = filename.replace(\".data\", \".csv\")\n",
    "\n",
    "with open(filename, \"w\") as file:\n",
    "    file.write(headers + \"\\n\")\n",
    "    file.write(data)\n"
   ]
  },
  {
   "cell_type": "code",
   "execution_count": 122,
   "metadata": {},
   "outputs": [],
   "source": [
    "# Preparing data\n",
    "\n",
    "import pandas as pd\n",
    "import io\n",
    "\n",
    "filename = \"breast-cancer-wisconsin.csv\"\n",
    "\n",
    "with open(filename) as file:\n",
    "    data_string = file.read()\n",
    "    \n",
    "data = io.StringIO(data_string)\n",
    "df = pd.read_csv(data, sep=\",\")\n",
    "\n",
    "# Clearing data from empty feature's values\n",
    "df = df.dropna()\n",
    "\n",
    "# Change values for class ('2' to '0' and '4' to '1')\n",
    "df['c'] = df['c'].replace(2, 0)\n",
    "df['c'] = df['c'].replace(4, 1)\n",
    "\n",
    "df.to_csv(filename)"
   ]
  },
  {
   "cell_type": "code",
   "execution_count": 123,
   "metadata": {},
   "outputs": [
    {
     "name": "stdout",
     "output_type": "stream",
     "text": [
      "          f0  f1  f2  f3  f4  f5    f6  f7  f8  f9  c\n",
      "0    1000025   5   1   1   1   2   1.0   3   1   1  0\n",
      "1    1002945   5   4   4   5   7  10.0   3   2   1  0\n",
      "2    1015425   3   1   1   1   2   2.0   3   1   1  0\n",
      "3    1016277   6   8   8   1   3   4.0   3   7   1  0\n",
      "4    1017023   4   1   1   3   2   1.0   3   1   1  0\n",
      "..       ...  ..  ..  ..  ..  ..   ...  ..  ..  .. ..\n",
      "694   776715   3   1   1   1   3   2.0   1   1   1  0\n",
      "695   841769   2   1   1   1   2   1.0   1   1   1  0\n",
      "696   888820   5  10  10   3   7   3.0   8  10   2  1\n",
      "697   897471   4   8   6   4   3   4.0  10   6   1  1\n",
      "698   897471   4   8   8   5   4   5.0  10   4   1  1\n",
      "\n",
      "[683 rows x 11 columns]\n",
      "          f0  f1  f2  f3  f4  f5    f6  f7  f8  f9\n",
      "0    1000025   5   1   1   1   2   1.0   3   1   1\n",
      "1    1002945   5   4   4   5   7  10.0   3   2   1\n",
      "2    1015425   3   1   1   1   2   2.0   3   1   1\n",
      "3    1016277   6   8   8   1   3   4.0   3   7   1\n",
      "4    1017023   4   1   1   3   2   1.0   3   1   1\n",
      "..       ...  ..  ..  ..  ..  ..   ...  ..  ..  ..\n",
      "694   776715   3   1   1   1   3   2.0   1   1   1\n",
      "695   841769   2   1   1   1   2   1.0   1   1   1\n",
      "696   888820   5  10  10   3   7   3.0   8  10   2\n",
      "697   897471   4   8   6   4   3   4.0  10   6   1\n",
      "698   897471   4   8   8   5   4   5.0  10   4   1\n",
      "\n",
      "[683 rows x 10 columns]\n",
      "0      0\n",
      "1      0\n",
      "2      0\n",
      "3      0\n",
      "4      0\n",
      "      ..\n",
      "694    0\n",
      "695    0\n",
      "696    1\n",
      "697    1\n",
      "698    1\n",
      "Name: c, Length: 683, dtype: int64\n"
     ]
    }
   ],
   "source": [
    "# Division data to dataframes: X for data set and y for tags\n",
    "\n",
    "X = df.loc[:,:'f9']\n",
    "y = df.loc[:,'c']\n",
    "\n",
    "print(df)\n",
    "print(X)\n",
    "print(y)"
   ]
  },
  {
   "cell_type": "code",
   "execution_count": 156,
   "metadata": {
    "scrolled": true
   },
   "outputs": [
    {
     "data": {
      "text/plain": [
       "{'f9': 0.5091730914657034,\n",
       " 'f1': 0.5936490155008523,\n",
       " 'f7': 0.6577258126105182,\n",
       " 'f4': 0.675633325449535,\n",
       " 'f8': 0.6925037262305894,\n",
       " 'f5': 0.7062878064817635,\n",
       " 'f3': 0.7604191544017106,\n",
       " 'f6': 0.7764688877762504,\n",
       " 'f2': 0.7823879275615498}"
      ]
     },
     "execution_count": 156,
     "metadata": {},
     "output_type": "execute_result"
    }
   ],
   "source": [
    "# Kendall' Tau Test - feature ranking\n",
    "\n",
    "from scipy.stats import kendalltau\n",
    "\n",
    "kendall_test = {}\n",
    "\n",
    "for feature in X.columns[1:]:\n",
    "    tau, p_value = kendalltau(X[feature], y)\n",
    "    kendall_test[feature] = tau\n",
    "\n",
    "{k: v for k, v in sorted(kendall_test.items(), key=lambda item: item[1])}"
   ]
  },
  {
   "cell_type": "code",
   "execution_count": 125,
   "metadata": {},
   "outputs": [
    {
     "name": "stdout",
     "output_type": "stream",
     "text": [
      "Length of train group: 546 / 79.94%\n",
      "Length of test group:  137 / 20.06%\n",
      "Accuracy score: 0.701\n"
     ]
    }
   ],
   "source": [
    "# Simple validation\n",
    "\n",
    "# Data division\n",
    "from sklearn.model_selection import train_test_split\n",
    "\n",
    "TEST_SIZE = 0.2\n",
    "\n",
    "\n",
    "X_train, X_test, y_train, y_test = train_test_split(X, y, test_size=TEST_SIZE)\n",
    "\n",
    "print(\"Length of train group:\", len(X_train), \"/\", format(len(X_train)/len(X)*100, '.2f') + \"%\")\n",
    "print(\"Length of test group: \", len(X_test), \"/\", format(len(X_test)/len(X)*100, '.2f') + \"%\")\n",
    "\n",
    "\n",
    "# Building and testing the model\n",
    "from sklearn.neighbors import KNeighborsClassifier\n",
    "from sklearn.metrics import accuracy_score\n",
    "\n",
    "NEIGHBORS = 5\n",
    "METRIC = 'manhattan'\n",
    "\n",
    "clf = KNeighborsClassifier(n_neighbors=NEIGHBORS, metric=METRIC)    # K-NN classifier\n",
    "clf.fit(X_train, y_train)                 # fitting the estimator\n",
    "y_pred = clf.predict(X_test)             # prediction on test data\n",
    "score = accuracy_score(y_test, y_pred)   # accuracy in prediciting tags\n",
    "print(\"Accuracy score: %.3f\" % score)"
   ]
  },
  {
   "cell_type": "code",
   "execution_count": 181,
   "metadata": {
    "scrolled": true
   },
   "outputs": [
    {
     "name": "stdout",
     "output_type": "stream",
     "text": [
      "kNN_1M: 0.899\n",
      "kNN_1E: 0.899\n",
      "kNN_5M: 0.925\n",
      "kNN_5E: 0.925\n",
      "kNN_10M: 0.925\n",
      "kNN_10E: 0.925\n"
     ]
    }
   ],
   "source": [
    "# Multiple cross-validation\n",
    "\n",
    "from sklearn.model_selection import RepeatedKFold\n",
    "from sklearn.base import clone\n",
    "from sklearn.neighbors import KNeighborsClassifier\n",
    "from sklearn.metrics import accuracy_score, confusion_matrix\n",
    "import numpy as np\n",
    "\n",
    "# K-NN parameters:\n",
    "NEIGHBORS = 1        # tested values: 1, 5, 10\n",
    "M1 = 'manhattan'     # tested metrics: manhattan\n",
    "M2 = 'euclidean'     # and euclidean\n",
    "\n",
    "# Cross-validation parameters:\n",
    "FOLDS = 2\n",
    "REPEATS = 5\n",
    "\n",
    "# Preparing classifiers\n",
    "clfs = {\n",
    "    'kNN_1M' : KNeighborsClassifier(n_neighbors=1,  metric=M1),  # manhattan, 1  neighbor\n",
    "    'kNN_1E' : KNeighborsClassifier(n_neighbors=1,  metric=M2),  # euclidean, 1  neighbor\n",
    "    'kNN_5M' : KNeighborsClassifier(n_neighbors=5,  metric=M1),  # manhattan, 5  neighbors\n",
    "    'kNN_5E' : KNeighborsClassifier(n_neighbors=5,  metric=M2),  # euclidean, 5  neighbors\n",
    "    'kNN_10M': KNeighborsClassifier(n_neighbors=10, metric=M1),  # manhattan, 10 neighbors\n",
    "    'kNN_10E': KNeighborsClassifier(n_neighbors=10, metric=M2)   # euclidean, 10 neighbors\n",
    "}\n",
    "\n",
    "# Features used for test:\n",
    "FEATURES = ['f2']\n",
    "x = X[['f2']].copy()\n",
    "\n",
    "results = np.zeros((len(clfs), FOLDS*REPEATS))\n",
    "\n",
    "\n",
    "rkf = RepeatedKFold(n_splits=FOLDS, n_repeats=REPEATS, random_state=1410)    # creating rkf object with parameters\n",
    "\n",
    "for fold, (train_index, test_index) in enumerate(rkf.split(X)):    # cross-validation\n",
    "    X_train = x.iloc[train_index]\n",
    "    X_test = x.iloc[test_index]\n",
    "    y_train = y.iloc[train_index]\n",
    "    y_test = y.iloc[test_index]\n",
    "    \n",
    "    for clf_index, clf_name in enumerate(clfs):\n",
    "        # build model\n",
    "        clf = clone(clfs[clf_name])\n",
    "        clf.fit(X_train, y_train)\n",
    "        \n",
    "        # test model\n",
    "        y_pred = clf.predict(X_test)\n",
    "        results[clf_index, fold] = accuracy_score(y_test, y_pred)\n",
    "        conf_mtx = confusion_matrix(y_test, y_pred)\n",
    "#         print(clf_name, \" - confusion matrix:\\n\", conf_mtx)\n",
    "\n",
    "# print(results)\n",
    "mean = np.mean(results, axis=1)\n",
    "    \n",
    "# Print results\n",
    "for clf_index, clf_name in enumerate(clfs):\n",
    "    print(\"%s: %.3f\" % (clf_name, mean[clf_index]))\n",
    "    \n",
    "np.save('results', results)"
   ]
  },
  {
   "cell_type": "code",
   "execution_count": 135,
   "metadata": {},
   "outputs": [
    {
     "name": "stdout",
     "output_type": "stream",
     "text": [
      "Advantage:\n",
      "          kNN_1M  kNN_1E  kNN_5M  kNN_5E  kNN_10M  kNN_10E\n",
      "kNN_1M        0       0       0       0        0        0\n",
      "kNN_1E        1       0       0       0        0        0\n",
      "kNN_5M        1       1       0       0        1        1\n",
      "kNN_5E        1       1       1       0        1        1\n",
      "kNN_10M       1       1       0       0        0        0\n",
      "kNN_10E       1       1       0       0        1        0 \n",
      "\n",
      "Statistical significance (alpha: 0.05)\n",
      "          kNN_1M  kNN_1E  kNN_5M  kNN_5E  kNN_10M  kNN_10E\n",
      "kNN_1M        0       0       1       1        1        1\n",
      "kNN_1E        0       0       1       1        1        1\n",
      "kNN_5M        1       1       0       0        0        0\n",
      "kNN_5E        1       1       0       0        0        0\n",
      "kNN_10M       1       1       0       0        0        0\n",
      "kNN_10E       1       1       0       0        0        0 \n",
      "\n",
      "Statistically significantly better:\n",
      "          kNN_1M  kNN_1E  kNN_5M  kNN_5E  kNN_10M  kNN_10E\n",
      "kNN_1M        0       0       0       0        0        0\n",
      "kNN_1E        0       0       0       0        0        0\n",
      "kNN_5M        1       1       0       0        0        0\n",
      "kNN_5E        1       1       0       0        0        0\n",
      "kNN_10M       1       1       0       0        0        0\n",
      "kNN_10E       1       1       0       0        0        0\n"
     ]
    }
   ],
   "source": [
    "# Statistical analysis - T-student test\n",
    "\n",
    "from scipy.stats import ttest_ind\n",
    "import pandas as pd\n",
    "\n",
    "results = np.load('results.npy')    # loading results\n",
    "\n",
    "alfa = 0.05\n",
    "statistic = pd.DataFrame(columns=clfs.keys(), index=clfs.keys())\n",
    "pvalue = pd.DataFrame(columns=clfs.keys(), index=clfs.keys())\n",
    "advantage = pd.DataFrame(0, columns=clfs.keys(), index=clfs.keys())\n",
    "significance = pd.DataFrame(0, columns=clfs.keys(), index=clfs.keys())\n",
    "\n",
    "for i, clfR in enumerate(clfs):\n",
    "    for j, clfC in enumerate(clfs):\n",
    "        statistic.at[clfR, clfC], pvalue.at[clfR, clfC] = ttest_ind(results[i], results[j])\n",
    "        \n",
    "advantage[statistic > 0] = 1\n",
    "significance[pvalue <= alfa] = 1\n",
    "clf_comp = significance * advantage\n",
    "\n",
    "print(\"Advantage:\\n\", advantage, \"\\n\")\n",
    "print(\"Statistical significance (alpha: %.2f)\\n\" % alfa, significance, \"\\n\")\n",
    "print(\"Statistically significantly better:\\n\", clf_comp)"
   ]
  },
  {
   "cell_type": "code",
   "execution_count": 200,
   "metadata": {},
   "outputs": [
    {
     "data": {
      "image/png": "[encoded data removed]",
      "text/plain": [
       "<Figure size 432x288 with 1 Axes>"
      ]
     },
     "metadata": {
      "needs_background": "light"
     },
     "output_type": "display_data"
    }
   ],
   "source": [
    "# Plotting data\n",
    "\n",
    "import matplotlib.pyplot as plt\n",
    "\n",
    "manhattan = pd.DataFrame([mean[0], mean[2], mean[4]], index=[1, 5, 10])\n",
    "euclidean = pd.DataFrame([mean[1], mean[3], mean[5]], index=[1, 5, 10])\n",
    "\n",
    "\n",
    "plt.plot(euclidean, marker='s', linestyle='-', color='g')\n",
    "plt.plot(manhattan, marker='o', linestyle='-', color='r')\n",
    "plt.xticks([1, 5, 10])\n",
    "plt.xlabel('k')\n",
    "plt.ylabel(\"Accuracy\")\n",
    "plt.title(\"1 feature\")\n",
    "plt.grid(True)\n",
    "plt.show()\n",
    "\n"
   ]
  }
 ],
 "metadata": {
  "kernelspec": {
   "display_name": "Python 3",
   "language": "python",
   "name": "python3"
  },
  "language_info": {
   "codemirror_mode": {
    "name": "ipython",
    "version": 3
   },
   "file_extension": ".py",
   "mimetype": "text/x-python",
   "name": "python",
   "nbconvert_exporter": "python",
   "pygments_lexer": "ipython3",
   "version": "3.7.4"
  }
 },
 "nbformat": 4,
 "nbformat_minor": 2
}
