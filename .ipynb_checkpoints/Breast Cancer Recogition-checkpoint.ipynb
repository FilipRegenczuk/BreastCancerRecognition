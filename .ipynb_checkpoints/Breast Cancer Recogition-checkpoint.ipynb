{
 "cells": [
  {
   "cell_type": "code",
   "execution_count": 4,
   "metadata": {},
   "outputs": [],
   "source": [
    "# Converting file from .data to .csv\n",
    "\n",
    "filename = \"breast-cancer-wisconsin.data\"\n",
    "# headers = \"ID,Clump Thickness,Uniformity of Cell Size,Uniformity of Cell Shape,Marginal Adhesion,Single Epithelial Cell Size,Bare Nuclei,Bland Chromatin,Normal Nucleoli,Mitoses\"\n",
    "headers = \"f0,f1,f2,f3,f4,f5,f6,f7,f8,f9,c\"\n",
    "\n",
    "with open(filename) as file:\n",
    "    data = file.read()\n",
    "\n",
    "data = data.replace('?', 'NaN')\n",
    "filename = filename.replace(\".data\", \".csv\")\n",
    "\n",
    "with open(filename, \"w\") as file:\n",
    "    file.write(headers + \"\\n\")\n",
    "    file.write(data)\n"
   ]
  },
  {
   "cell_type": "code",
   "execution_count": 1,
   "metadata": {},
   "outputs": [],
   "source": [
    "# Preparing data\n",
    "\n",
    "import pandas as pd\n",
    "import io\n",
    "\n",
    "filename = \"breast-cancer-wisconsin.csv\"\n",
    "\n",
    "with open(filename) as file:\n",
    "    data_string = file.read()\n",
    "    \n",
    "data = io.StringIO(data_string)\n",
    "df = pd.read_csv(data, sep=\",\")\n",
    "\n",
    "# Clearing data from empty feature's values\n",
    "df = df.dropna()\n",
    "\n",
    "# Change values for class ('2' to '0' and '4' to '1')\n",
    "df['c'] = df['c'].replace(2, 0)\n",
    "df['c'] = df['c'].replace(4, 1)\n",
    "\n",
    "df.to_csv(filename)"
   ]
  },
  {
   "cell_type": "code",
   "execution_count": 2,
   "metadata": {},
   "outputs": [
    {
     "name": "stdout",
     "output_type": "stream",
     "text": [
      "     Unnamed: 0  Unnamed: 0.1  Unnamed: 0.1.1       f0  f1  f2  f3  f4  f5  \\\n",
      "0             0             0               0  1000025   5   1   1   1   2   \n",
      "1             1             1               1  1002945   5   4   4   5   7   \n",
      "2             2             2               2  1015425   3   1   1   1   2   \n",
      "3             3             3               3  1016277   6   8   8   1   3   \n",
      "4             4             4               4  1017023   4   1   1   3   2   \n",
      "..          ...           ...             ...      ...  ..  ..  ..  ..  ..   \n",
      "678         678           678             694   776715   3   1   1   1   3   \n",
      "679         679           679             695   841769   2   1   1   1   2   \n",
      "680         680           680             696   888820   5  10  10   3   7   \n",
      "681         681           681             697   897471   4   8   6   4   3   \n",
      "682         682           682             698   897471   4   8   8   5   4   \n",
      "\n",
      "       f6  f7  f8  f9  \n",
      "0     1.0   3   1   1  \n",
      "1    10.0   3   2   1  \n",
      "2     2.0   3   1   1  \n",
      "3     4.0   3   7   1  \n",
      "4     1.0   3   1   1  \n",
      "..    ...  ..  ..  ..  \n",
      "678   2.0   1   1   1  \n",
      "679   1.0   1   1   1  \n",
      "680   3.0   8  10   2  \n",
      "681   4.0  10   6   1  \n",
      "682   5.0  10   4   1  \n",
      "\n",
      "[683 rows x 13 columns]\n"
     ]
    }
   ],
   "source": [
    "# Division data to dataframes: X for data set and y for tags\n",
    "\n",
    "X = df.iloc[:,:-1]\n",
    "y = df.iloc[:,-1]\n",
    "\n",
    "print(X)"
   ]
  },
  {
   "cell_type": "code",
   "execution_count": 3,
   "metadata": {
    "scrolled": true
   },
   "outputs": [
    {
     "data": {
      "text/plain": [
       "{'Unnamed: 0.1.1': -0.16473589876453607,\n",
       " 'f0': -0.09095618046074797,\n",
       " 'f9': 0.5091730914657034,\n",
       " 'f1': 0.5936490155008523,\n",
       " 'f7': 0.6577258126105182,\n",
       " 'f4': 0.675633325449535,\n",
       " 'f8': 0.6925037262305894,\n",
       " 'f5': 0.7062878064817635,\n",
       " 'f3': 0.7604191544017106,\n",
       " 'f6': 0.7764688877762504,\n",
       " 'f2': 0.7823879275615498}"
      ]
     },
     "execution_count": 3,
     "metadata": {},
     "output_type": "execute_result"
    }
   ],
   "source": [
    "# Kendall' Tau Test - feature ranking\n",
    "\n",
    "from scipy.stats import kendalltau\n",
    "\n",
    "kendall_test = {}\n",
    "\n",
    "for feature in X.columns[2:]:\n",
    "    tau, p_value = kendalltau(X[feature], y)\n",
    "    kendall_test[feature] = tau\n",
    "\n",
    "{k: v for k, v in sorted(kendall_test.items(), key=lambda item: item[1])}"
   ]
  },
  {
   "cell_type": "code",
   "execution_count": 5,
   "metadata": {},
   "outputs": [
    {
     "name": "stdout",
     "output_type": "stream",
     "text": [
      "Length of train group: 546 / 79.94%\n",
      "Length of test group:  137 / 20.06%\n",
      "Accuracy score: 0.577\n"
     ]
    }
   ],
   "source": [
    "# Simple validation\n",
    "\n",
    "# Data division\n",
    "from sklearn.model_selection import train_test_split\n",
    "\n",
    "TEST_SIZE = 0.2\n",
    "\n",
    "\n",
    "X_train, X_test, y_train, y_test = train_test_split(X, y, test_size=TEST_SIZE)\n",
    "\n",
    "print(\"Length of train group:\", len(X_train), \"/\", format(len(X_train)/len(X)*100, '.2f') + \"%\")\n",
    "print(\"Length of test group: \", len(X_test), \"/\", format(len(X_test)/len(X)*100, '.2f') + \"%\")\n",
    "\n",
    "\n",
    "# Building and testing the model\n",
    "from sklearn.neighbors import KNeighborsClassifier\n",
    "from sklearn.metrics import accuracy_score\n",
    "\n",
    "NEIGHBORS = 5\n",
    "METRIC = 'manhattan'\n",
    "\n",
    "clf = KNeighborsClassifier(n_neighbors=NEIGHBORS, metric=METRIC)    # K-NN classifier\n",
    "clf.fit(X_train, y_train)                 # fitting the estimator\n",
    "y_pred = clf.predict(X_test)             # prediction on test data\n",
    "score = accuracy_score(y_test, y_pred)   # accuracy in prediciting tags\n",
    "print(\"Accuracy score: %.3f\" % score)"
   ]
  },
  {
   "cell_type": "code",
   "execution_count": 49,
   "metadata": {},
   "outputs": [
    {
     "name": "stdout",
     "output_type": "stream",
     "text": [
      "0.6160998782390974\n",
      "0.6313337106206377\n",
      "0.6570938587916516\n",
      "0.6067277186122688\n",
      "0.6207859580525116\n",
      "0.6544597074308449\n"
     ]
    }
   ],
   "source": [
    "# Multiple cross-validation\n",
    "\n",
    "from sklearn.model_selection import RepeatedKFold\n",
    "from sklearn.base import clone\n",
    "from sklearn.neighbors import KNeighborsClassifier\n",
    "from sklearn.metrics import accuracy_score\n",
    "import numpy as np\n",
    "\n",
    "# K-NN parameters:\n",
    "NEIGHBORS = 1        # tested values: 1, 5, 10\n",
    "M1 = 'manhattan'     # tested metrics: manhattan\n",
    "M2 = 'euclidean'     # and euclidean\n",
    "\n",
    "# Cross-validation parameters:\n",
    "FOLDS = 2\n",
    "REPEATS = 5\n",
    "\n",
    "# Preparing classifiers\n",
    "clfs = {\n",
    "    'kNN_1M' : KNeighborsClassifier(n_neighbors=1,  metric=M1),  # manhattan, 1  neighbor\n",
    "    'kNN_5M' : KNeighborsClassifier(n_neighbors=5,  metric=M1),  # manhattan, 5  neighbors\n",
    "    'kNN_10M': KNeighborsClassifier(n_neighbors=10, metric=M1),  # manhattan, 10 neighbors\n",
    "    'kNN_1E' : KNeighborsClassifier(n_neighbors=1,  metric=M2),  # euclidean, 1  neighbor\n",
    "    'kNN_5E' : KNeighborsClassifier(n_neighbors=5,  metric=M2),  # euclidean, 5  neighbors\n",
    "    'kNN_10E': KNeighborsClassifier(n_neighbors=10, metric=M2)   # euclidean, 10 neighbors\n",
    "}\n",
    "\n",
    "# Features used for test:\n",
    "FEATURES = X[['f2']].copy()\n",
    "ALL_FEATURES = X.copy()\n",
    "\n",
    "results = np.zeros((len(clfs), FOLDS*REPEATS))\n",
    "\n",
    "\n",
    "rkf = RepeatedKFold(n_splits=FOLDS, n_repeats=REPEATS, random_state=1410)    # creating rkf object with parameters\n",
    "\n",
    "for fold, (train_index, test_index) in enumerate(rkf.split(FEATURES)):    # cross-validation   TODO 1. Petla zautomatyzowna po cechach, 2. Wyniki dla kazdego klasyfikatora\n",
    "    X_train = X.loc[train_index]\n",
    "    X_test = X.loc[test_index]\n",
    "    y_train = y.loc[train_index]\n",
    "    y_test = y.loc[test_index]\n",
    "    \n",
    "    for clf_index, clf_name in enumerate(clfs):\n",
    "        # build model\n",
    "        clf = clone(clfs[clf_name])\n",
    "        clf.fit(X_train, y_train)\n",
    "        \n",
    "        # test model\n",
    "        y_pred = clf.predict(X_test)\n",
    "        results[clf_index, fold] = accuracy_score(y_test, y_pred)\n",
    "    \n",
    "    \n",
    "# Print results\n",
    "for result in results:\n",
    "    mean_result = np.mean(result)    # counting mean of scores\n",
    "    print(mean_result)\n"
   ]
  },
  {
   "cell_type": "code",
   "execution_count": null,
   "metadata": {},
   "outputs": [],
   "source": []
  }
 ],
 "metadata": {
  "kernelspec": {
   "display_name": "Python 3",
   "language": "python",
   "name": "python3"
  },
  "language_info": {
   "codemirror_mode": {
    "name": "ipython",
    "version": 3
   },
   "file_extension": ".py",
   "mimetype": "text/x-python",
   "name": "python",
   "nbconvert_exporter": "python",
   "pygments_lexer": "ipython3",
   "version": "3.7.4"
  }
 },
 "nbformat": 4,
 "nbformat_minor": 2
}
