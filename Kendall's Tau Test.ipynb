{
 "cells": [
  {
   "cell_type": "code",
   "execution_count": 39,
   "metadata": {},
   "outputs": [],
   "source": [
    "# Converting file from .data to .csv\n",
    "\n",
    "filename = \"breast-cancer-wisconsin.data\"\n",
    "# headers = \"ID,Clump Thickness,Uniformity of Cell Size,Uniformity of Cell Shape,Marginal Adhesion,Single Epithelial Cell Size,Bare Nuclei,Bland Chromatin,Normal Nucleoli,Mitoses\"\n",
    "headers = \"f0,f1,f2,f3,f4,f5,f6,f7,f8,f9,c\"\n",
    "\n",
    "with open(filename) as file:\n",
    "    data = file.read()\n",
    "\n",
    "data = data.replace('?', 'NaN')\n",
    "filename = filename.replace(\".data\", \".csv\")\n",
    "\n",
    "with open(filename, \"w\") as file:\n",
    "    file.write(headers + \"\\n\")\n",
    "    file.write(data)\n"
   ]
  },
  {
   "cell_type": "code",
   "execution_count": 40,
   "metadata": {},
   "outputs": [
    {
     "name": "stdout",
     "output_type": "stream",
     "text": [
      "Index(['f0', 'f1', 'f2', 'f3', 'f4', 'f5', 'f6', 'f7', 'f8', 'f9', 'c'], dtype='object')\n"
     ]
    }
   ],
   "source": [
    "# Preparing data\n",
    "\n",
    "import pandas as pd\n",
    "import io\n",
    "\n",
    "filename = \"breast-cancer-wisconsin.csv\"\n",
    "\n",
    "with open(filename) as file:\n",
    "    data_string = file.read()\n",
    "    \n",
    "data = io.StringIO(data_string)\n",
    "df = pd.read_csv(data, sep=\",\")\n",
    "\n",
    "# Clearing data from empty feature's values\n",
    "df = df.dropna()\n",
    "\n",
    "# Change values for class ('2' to '0' and '4' to '1')\n",
    "df['c'] = df['c'].replace(2, 0)\n",
    "df['c'] = df['c'].replace(4, 1)\n",
    "\n",
    "df.to_csv(filename)"
   ]
  },
  {
   "cell_type": "code",
   "execution_count": 43,
   "metadata": {},
   "outputs": [
    {
     "data": {
      "text/plain": [
       "{'f9': 0.5091730914657034,\n",
       " 'f1': 0.5936490155008523,\n",
       " 'f7': 0.6577258126105182,\n",
       " 'f4': 0.675633325449535,\n",
       " 'f8': 0.6925037262305894,\n",
       " 'f5': 0.7062878064817635,\n",
       " 'f3': 0.7604191544017106,\n",
       " 'f6': 0.7764688877762504,\n",
       " 'f2': 0.7823879275615498}"
      ]
     },
     "execution_count": 43,
     "metadata": {},
     "output_type": "execute_result"
    }
   ],
   "source": [
    "# Kendall' Tau Test\n",
    "\n",
    "import pandas as pd\n",
    "import io\n",
    "from scipy.stats import kendalltau\n",
    "\n",
    "filename = \"breast-cancer-wisconsin.csv\"\n",
    "\n",
    "with open(filename) as file:\n",
    "    data_string = file.read()\n",
    "    \n",
    "    data = io.StringIO(data_string)\n",
    "    df = pd.read_csv(data, sep=\",\")\n",
    "    \n",
    "\n",
    "kendall_test = {}\n",
    "\n",
    "for feature in df.columns[2:-1]:\n",
    "    tau, p_value = kendalltau(df[feature], df['c'])\n",
    "    kendall_test[feature] = tau\n",
    "\n",
    "{k: v for k, v in sorted(kendall_test.items(), key=lambda item: item[1])}\n",
    "\n"
   ]
  }
 ],
 "metadata": {
  "kernelspec": {
   "display_name": "Python 3",
   "language": "python",
   "name": "python3"
  },
  "language_info": {
   "codemirror_mode": {
    "name": "ipython",
    "version": 3
   },
   "file_extension": ".py",
   "mimetype": "text/x-python",
   "name": "python",
   "nbconvert_exporter": "python",
   "pygments_lexer": "ipython3",
   "version": "3.7.4"
  }
 },
 "nbformat": 4,
 "nbformat_minor": 2
}
